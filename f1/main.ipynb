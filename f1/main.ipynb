{
 "cells": [
  {
   "cell_type": "code",
   "execution_count": 2,
   "id": "initial_id",
   "metadata": {
    "collapsed": true,
    "ExecuteTime": {
     "end_time": "2024-03-29T12:51:44.889936Z",
     "start_time": "2024-03-29T12:51:31.759394Z"
    }
   },
   "outputs": [],
   "source": [
    "import fastf1\n",
    "import tensorflow as tf\n",
    "from sklearn.preprocessing import OneHotEncoder\n",
    "from sklearn.model_selection import train_test_split"
   ]
  },
  {
   "cell_type": "code",
   "outputs": [
    {
     "data": {
      "text/plain": "RoundNumber                                                   1\nCountry                                                 Bahrain\nLocation                                                 Sakhir\nOfficialEventName    FORMULA 1 GULF AIR BAHRAIN GRAND PRIX 2023\nEventDate                                   2023-03-05 00:00:00\nEventName                                    Bahrain Grand Prix\nEventFormat                                        conventional\nSession1                                             Practice 1\nSession1Date                          2023-03-03 14:30:00+03:00\nSession1DateUtc                             2023-03-03 11:30:00\nSession2                                             Practice 2\nSession2Date                          2023-03-03 18:00:00+03:00\nSession2DateUtc                             2023-03-03 15:00:00\nSession3                                             Practice 3\nSession3Date                          2023-03-04 14:30:00+03:00\nSession3DateUtc                             2023-03-04 11:30:00\nSession4                                             Qualifying\nSession4Date                          2023-03-04 18:00:00+03:00\nSession4DateUtc                             2023-03-04 15:00:00\nSession5                                                   Race\nSession5Date                          2023-03-05 18:00:00+03:00\nSession5DateUtc                             2023-03-05 15:00:00\nF1ApiSupport                                               True\nName: 1, dtype: object"
     },
     "execution_count": 6,
     "metadata": {},
     "output_type": "execute_result"
    }
   ],
   "source": [
    "session = fastf1.get_session(2023, 1, \"R\")\n",
    "session.event"
   ],
   "metadata": {
    "collapsed": false,
    "ExecuteTime": {
     "end_time": "2024-03-29T12:53:17.425074Z",
     "start_time": "2024-03-29T12:53:17.394825Z"
    }
   },
   "id": "41e99448e2770d41",
   "execution_count": 6
  },
  {
   "cell_type": "code",
   "outputs": [],
   "source": [],
   "metadata": {
    "collapsed": false
   },
   "id": "a64b3dca50b85c4c"
  }
 ],
 "metadata": {
  "kernelspec": {
   "display_name": "Python 3",
   "language": "python",
   "name": "python3"
  },
  "language_info": {
   "codemirror_mode": {
    "name": "ipython",
    "version": 2
   },
   "file_extension": ".py",
   "mimetype": "text/x-python",
   "name": "python",
   "nbconvert_exporter": "python",
   "pygments_lexer": "ipython2",
   "version": "2.7.6"
  }
 },
 "nbformat": 4,
 "nbformat_minor": 5
}
